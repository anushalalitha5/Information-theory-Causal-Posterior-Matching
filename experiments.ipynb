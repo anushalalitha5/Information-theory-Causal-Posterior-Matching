{
 "cells": [
  {
   "cell_type": "code",
   "execution_count": 1,
   "metadata": {},
   "outputs": [],
   "source": [
    "import numpy as np\n",
    "import info_theory as it\n",
    "import err_exponents as err_exp"
   ]
  },
  {
   "cell_type": "code",
   "execution_count": 20,
   "metadata": {},
   "outputs": [],
   "source": [
    "R = 0.5\n",
    "a = 2**R"
   ]
  },
  {
   "cell_type": "code",
   "execution_count": 21,
   "metadata": {},
   "outputs": [
    {
     "data": {
      "text/plain": [
       "1.4142135623730951"
      ]
     },
     "execution_count": 21,
     "metadata": {},
     "output_type": "execute_result"
    }
   ],
   "source": [
    "a"
   ]
  },
  {
   "cell_type": "code",
   "execution_count": 66,
   "metadata": {},
   "outputs": [],
   "source": [
    "delta = 8 #smaller delta higher rate, larger delta rate will be close to R\n",
    "W = 1\n",
    "t_max = 100\n",
    "\n",
    "m_vec = np.zeros((t_max), dtype = float)\n",
    "m_vec[0] = delta\n",
    "bits_emitted = np.zeros((t_max), dtype = int)\n",
    "\n",
    "for i in range(1,t_max):\n",
    "    bits_emitted[i] = max(0, np.ceil(np.log2((a*m_vec[i-1] + W*0.5)/delta)) )\n",
    "    m_vec[i] = (a*m_vec[i-1] + W*0.5)/(2**bits_emitted[i])"
   ]
  },
  {
   "cell_type": "code",
   "execution_count": 67,
   "metadata": {},
   "outputs": [
    {
     "data": {
      "text/plain": [
       "11.813708498984761"
      ]
     },
     "execution_count": 67,
     "metadata": {},
     "output_type": "execute_result"
    }
   ],
   "source": [
    "a*delta+W*0.5"
   ]
  },
  {
   "cell_type": "code",
   "execution_count": 68,
   "metadata": {},
   "outputs": [
    {
     "data": {
      "text/plain": [
       "array([0, 1, 1, 0, 1, 0, 1, 1, 0, 1, 0, 1, 1, 0, 1, 0, 1, 1, 0, 1, 0, 1,\n",
       "       0, 1, 1, 0, 1, 0, 1, 1, 0, 1, 0, 1, 1, 0, 1, 0, 1, 0, 1, 1, 0, 1,\n",
       "       0, 1, 1, 0, 1, 0, 1, 1, 0, 1, 0, 1, 0, 1, 1, 0, 1, 0, 1, 1, 0, 1,\n",
       "       0, 1, 1, 0, 1, 0, 1, 0, 1, 1, 0, 1, 0, 1, 1, 0, 1, 0, 1, 1, 0, 1,\n",
       "       0, 1, 1, 0, 1, 0, 1, 0, 1, 1, 0, 1])"
      ]
     },
     "execution_count": 68,
     "metadata": {},
     "output_type": "execute_result"
    }
   ],
   "source": [
    "bits_emitted"
   ]
  },
  {
   "cell_type": "code",
   "execution_count": 69,
   "metadata": {},
   "outputs": [
    {
     "data": {
      "text/plain": [
       "array([8.        , 5.90685425, 4.4267767 , 6.76040764, 5.03033009,\n",
       "       7.61396103, 5.63388348, 4.23375721, 6.48743687, 4.8373106 ,\n",
       "       7.34099026, 5.44086399, 4.09727182, 6.29441738, 4.70082521,\n",
       "       7.14797077, 5.30437861, 4.00076208, 6.157932  , 4.60431547,\n",
       "       7.01148539, 5.20786886, 7.86503878, 5.81142225, 4.35929608,\n",
       "       6.66497564, 4.96284947, 7.51852903, 5.56640287, 4.18604121,\n",
       "       6.41995626, 4.7895946 , 7.27350965, 5.39314799, 4.06353152,\n",
       "       6.24670138, 4.66708491, 7.10025478, 5.2706383 , 7.95380817,\n",
       "       5.87419169, 4.40368078, 6.72774508, 5.00723417, 7.58129847,\n",
       "       5.61078756, 4.21742593, 6.46434095, 4.82097932, 7.31789434,\n",
       "       5.42453271, 4.08572387, 6.2780861 , 4.68927726, 7.13163949,\n",
       "       5.29283065, 7.98519288, 5.89638404, 4.41937314, 6.74993743,\n",
       "       5.02292653, 7.60349082, 5.62647992, 4.2285221 , 6.48003331,\n",
       "       4.8320755 , 7.3335867 , 5.43562889, 4.09357005, 6.28918228,\n",
       "       4.69712344, 7.14273567, 5.30067683, 7.99628906, 5.90423022,\n",
       "       4.42492122, 6.75778361, 5.02847461, 7.611337  , 5.63202801,\n",
       "       4.23244519, 6.4855814 , 4.83599858, 7.33913479, 5.43955198,\n",
       "       4.09634409, 6.29310537, 4.69989748, 7.14665876, 5.30345087,\n",
       "       4.00010607, 6.15700426, 4.60365946, 7.01055765, 5.20721285,\n",
       "       7.86411104, 5.81076625, 4.35883222, 6.66431964, 4.96238561])"
      ]
     },
     "execution_count": 69,
     "metadata": {},
     "output_type": "execute_result"
    }
   ],
   "source": [
    "m_vec"
   ]
  }
 ],
 "metadata": {
  "kernelspec": {
   "display_name": "Python 3",
   "language": "python",
   "name": "python3"
  },
  "language_info": {
   "codemirror_mode": {
    "name": "ipython",
    "version": 3
   },
   "file_extension": ".py",
   "mimetype": "text/x-python",
   "name": "python",
   "nbconvert_exporter": "python",
   "pygments_lexer": "ipython3",
   "version": "3.7.0"
  }
 },
 "nbformat": 4,
 "nbformat_minor": 2
}
