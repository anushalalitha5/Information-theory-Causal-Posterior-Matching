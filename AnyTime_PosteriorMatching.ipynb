{
 "cells": [
  {
   "cell_type": "code",
   "execution_count": 45,
   "metadata": {},
   "outputs": [],
   "source": [
    "import numpy as np\n",
    "np.set_printoptions(threshold=np.nan)\n",
    "import info_theory as it\n",
    "import err_exponents as err_exp\n",
    "from collections import OrderedDict \n",
    "from scipy.stats import bernoulli"
   ]
  },
  {
   "cell_type": "markdown",
   "metadata": {},
   "source": [
    "### Parameters for Causal Posterior Matching"
   ]
  },
  {
   "cell_type": "code",
   "execution_count": 69,
   "metadata": {},
   "outputs": [
    {
     "name": "stdout",
     "output_type": "stream",
     "text": [
      "The capacity is 0.5310044064107188\n"
     ]
    }
   ],
   "source": [
    "k = 1\n",
    "n = 2\n",
    "p = 0.1 # cross_over probability\n",
    "maxInputBits = 5\n",
    "\n",
    "R = k/n\n",
    "q = 1-p\n",
    "\n",
    "capacity = it.capacity_bsc(p)\n",
    "print('The capacity is {0}'.format(capacity))"
   ]
  },
  {
   "cell_type": "markdown",
   "metadata": {},
   "source": [
    "### Define functions for Causal Posterior Matching"
   ]
  },
  {
   "cell_type": "code",
   "execution_count": 50,
   "metadata": {},
   "outputs": [],
   "source": [
    "# expand posterior vector\n",
    "def expandPosterior(k, vec):\n",
    "    new_vec = np.repeat(vec/(2**k), 2**k)\n",
    "    return new_vec\n",
    "\n",
    "# find the bin containing the median and decide which end point to choose\n",
    "def findMedian(vec):\n",
    "    cumsumVec = np.cumsum(vec)\n",
    "    median_bin = [i for i in range(len(cumsumVec)) if cumsumVec[i] >=0.5][0]\n",
    "    if median_bin == 0:\n",
    "        leftToMedian = 0.5\n",
    "        bin_ind = median_bin+1 # if left is automatically greater hence include the bin containing the median in 0\n",
    "    else:\n",
    "        leftToMedian = 0.5 - cumsumVec[median_bin-1]\n",
    "        rightToMedian = vec[median_bin] - leftToMedian\n",
    "        bin_ind = median_bin\n",
    "        if leftToMedian >= rightToMedian: # if left is greater then include the bin containing the median in 0\n",
    "            bin_ind = median_bin+1       \n",
    "    return [median_bin, bin_ind] # bin_ind is the first bin which is mapped to input 1\n",
    "\n",
    "# Message point bin from currently available bits\n",
    "def findMessageBin(message_bits, count):\n",
    "    binary_array = np.array([2**(count-1-i) for i in range(0,count+1)])\n",
    "    message_bin = np.sum(binary_array*np.array(message_bits[0:count+1]))\n",
    "    return message_bin\n",
    "\n",
    "# obtain channel input by comparing message bin with median \n",
    "def channelInput(message_bin, bin_ind):\n",
    "    x_input = 1\n",
    "    if message_bin < bin_ind:\n",
    "        x_input = 0   \n",
    "    return x_input    \n",
    "        \n",
    "# obtain channel output        \n",
    "def channelOutput(x_input, channel_flip_bits, count):\n",
    "    y_output = (x_input+channel_flip_bits[count])%2\n",
    "    return y_output\n",
    "\n",
    "# update posterior vector\n",
    "def updatePosterior(y_output, bin_ind, vec): # bin_ind is not included in 0 input\n",
    "    vec[0:bin_ind] =  (q**(1-y_output))*(p**y_output)*vec[0:bin_ind]\n",
    "    vec[bin_ind:] =  (p**(1-y_output))*(q**y_output)*vec[bin_ind:] \n",
    "    vec = vec/np.sum(vec)\n",
    "    return vec\n"
   ]
  },
  {
   "cell_type": "markdown",
   "metadata": {},
   "source": [
    "### Implementing Causal PM"
   ]
  },
  {
   "cell_type": "code",
   "execution_count": 70,
   "metadata": {},
   "outputs": [
    {
     "name": "stdout",
     "output_type": "stream",
     "text": [
      "[0.5 0.5]\n",
      "[0.9 0.1]\n",
      "[0.98780488 0.01219512]\n",
      "[0.49390244 0.49390244 0.00609756 0.00609756]\n",
      "[0.89778325 0.09975369 0.00123153 0.00123153]\n",
      "[9.87507526e-01 1.21914509e-02 1.50511740e-04 1.50511740e-04]\n",
      "[4.93753763e-01 4.93753763e-01 6.09572547e-03 6.09572547e-03\n",
      " 7.52558700e-05 7.52558700e-05 7.52558700e-05 7.52558700e-05]\n",
      "[8.97728655e-01 9.97476283e-02 1.23145220e-03 1.23145220e-03\n",
      " 1.52031136e-05 1.52031136e-05 1.52031136e-05 1.52031136e-05]\n",
      "[9.87500186e-01 1.21913603e-02 1.50510621e-04 1.50510621e-04\n",
      " 1.85815582e-06 1.85815582e-06 1.85815582e-06 1.85815582e-06]\n",
      "[4.93750093e-01 4.93750093e-01 6.09568016e-03 6.09568016e-03\n",
      " 7.52553106e-05 7.52553106e-05 7.52553106e-05 7.52553106e-05\n",
      " 9.29077909e-07 9.29077909e-07 9.29077909e-07 9.29077909e-07\n",
      " 9.29077909e-07 9.29077909e-07 9.29077909e-07 9.29077909e-07]\n",
      "[9.77723100e-02 8.79950790e-01 1.08635900e-02 1.08635900e-02\n",
      " 1.34118395e-04 1.34118395e-04 1.34118395e-04 1.34118395e-04\n",
      " 1.65578266e-06 1.65578266e-06 1.65578266e-06 1.65578266e-06\n",
      " 1.65578266e-06 1.65578266e-06 1.65578266e-06 1.65578266e-06]\n",
      "[1.18975947e-02 9.63705173e-01 1.18975947e-02 1.18975947e-02\n",
      " 1.46883886e-04 1.46883886e-04 1.46883886e-04 1.46883886e-04\n",
      " 1.81338130e-06 1.81338130e-06 1.81338130e-06 1.81338130e-06\n",
      " 1.81338130e-06 1.81338130e-06 1.81338130e-06 1.81338130e-06]\n",
      "[5.94879737e-03 5.94879737e-03 4.81852587e-01 4.81852587e-01\n",
      " 5.94879737e-03 5.94879737e-03 5.94879737e-03 5.94879737e-03\n",
      " 7.34419428e-05 7.34419428e-05 7.34419428e-05 7.34419428e-05\n",
      " 7.34419428e-05 7.34419428e-05 7.34419428e-05 7.34419428e-05\n",
      " 9.06690652e-07 9.06690652e-07 9.06690652e-07 9.06690652e-07\n",
      " 9.06690652e-07 9.06690652e-07 9.06690652e-07 9.06690652e-07\n",
      " 9.06690652e-07 9.06690652e-07 9.06690652e-07 9.06690652e-07\n",
      " 9.06690652e-07 9.06690652e-07 9.06690652e-07 9.06690652e-07]\n",
      "[1.17798001e-03 1.17798001e-03 9.54163812e-02 8.58747431e-01\n",
      " 1.06018201e-02 1.06018201e-02 1.06018201e-02 1.06018201e-02\n",
      " 1.30886668e-04 1.30886668e-04 1.30886668e-04 1.30886668e-04\n",
      " 1.30886668e-04 1.30886668e-04 1.30886668e-04 1.30886668e-04\n",
      " 1.61588479e-06 1.61588479e-06 1.61588479e-06 1.61588479e-06\n",
      " 1.61588479e-06 1.61588479e-06 1.61588479e-06 1.61588479e-06\n",
      " 1.61588479e-06 1.61588479e-06 1.61588479e-06 1.61588479e-06\n",
      " 1.61588479e-06 1.61588479e-06 1.61588479e-06 1.61588479e-06]\n",
      "[1.43344565e-04 1.43344565e-04 1.16109098e-02 9.40483691e-01\n",
      " 1.16109098e-02 1.16109098e-02 1.16109098e-02 1.16109098e-02\n",
      " 1.43344565e-04 1.43344565e-04 1.43344565e-04 1.43344565e-04\n",
      " 1.43344565e-04 1.43344565e-04 1.43344565e-04 1.43344565e-04\n",
      " 1.76968599e-06 1.76968599e-06 1.76968599e-06 1.76968599e-06\n",
      " 1.76968599e-06 1.76968599e-06 1.76968599e-06 1.76968599e-06\n",
      " 1.76968599e-06 1.76968599e-06 1.76968599e-06 1.76968599e-06\n",
      " 1.76968599e-06 1.76968599e-06 1.76968599e-06 1.76968599e-06]\n"
     ]
    }
   ],
   "source": [
    "# initialize posterior\n",
    "posterior_vec = np.ones((1), dtype= float)\n",
    "\n",
    "message_bits = bernoulli.rvs(0.5, size=maxInputBits)\n",
    "channel_flip_bits = bernoulli.rvs(p, size=maxInputBits*n)\n",
    "\n",
    "# Implementing Causal PM\n",
    "for count in range(0, maxInputBits):\n",
    "    # expand posterior for the new bit\n",
    "    posterior_vec = expandPosterior(k,posterior_vec)\n",
    "    print(posterior_vec)\n",
    "    \n",
    "    for i in range(0,n):\n",
    "        # Message point bin from currently available bits\n",
    "        message_bin= findMessageBin(message_bits, count)\n",
    "    \n",
    "        # find the bin containing the median and decide which end point to choose\n",
    "        [median_bin, bin_ind] = findMedian(posterior_vec)\n",
    "    \n",
    "        # obtain channel input \n",
    "        x_input = channelInput(message_bin, bin_ind)\n",
    "    \n",
    "        # obtain channel output\n",
    "        y_output = channelOutput(x_input, channel_flip_bits, count)\n",
    "    \n",
    "        # Update posterior\n",
    "        posterior_vec =  updatePosterior(y_output, bin_ind, posterior_vec)\n",
    "        print(posterior_vec)"
   ]
  },
  {
   "cell_type": "code",
   "execution_count": 68,
   "metadata": {},
   "outputs": [
    {
     "data": {
      "text/plain": [
       "1.0"
      ]
     },
     "execution_count": 68,
     "metadata": {},
     "output_type": "execute_result"
    }
   ],
   "source": [
    "sum(posterior_vec)"
   ]
  },
  {
   "cell_type": "code",
   "execution_count": null,
   "metadata": {},
   "outputs": [],
   "source": []
  }
 ],
 "metadata": {
  "kernelspec": {
   "display_name": "Python 3",
   "language": "python",
   "name": "python3"
  },
  "language_info": {
   "codemirror_mode": {
    "name": "ipython",
    "version": 3
   },
   "file_extension": ".py",
   "mimetype": "text/x-python",
   "name": "python",
   "nbconvert_exporter": "python",
   "pygments_lexer": "ipython3",
   "version": "3.7.0"
  }
 },
 "nbformat": 4,
 "nbformat_minor": 2
}
